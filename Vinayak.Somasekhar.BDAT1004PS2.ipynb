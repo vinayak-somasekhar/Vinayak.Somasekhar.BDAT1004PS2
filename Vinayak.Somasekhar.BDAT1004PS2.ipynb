{
 "cells": [
  {
   "cell_type": "markdown",
   "id": "1a325c3b",
   "metadata": {},
   "source": [
    "### Question 1\n",
    "    \n",
    "#### Consider the following Python module:\n",
    "#### a = 0\n",
    "#### def b():\n",
    "       global a\n",
    "       a = c(a)\n",
    "#### def c(a):\n",
    "       return a + 2\n",
    "#### After importing the module into the interpreter, you execute:\n",
    "#### >>> b()\n",
    "#### >>> b()\n",
    "#### >>> b()\n",
    "#### >>> a\n",
    "#### ?\n",
    "#### What value is displayed when the last expression (a) is evaluated? Explain your answer by indicating what happens in every executed statement.\n"
   ]
  },
  {
   "cell_type": "markdown",
   "id": "7767a6e3",
   "metadata": {},
   "source": [
    "#### Answer 1:\n",
    "The value \"6\" is displayed when the last expression (a) is evaluated. The following occurs on each invocation of the function:\n",
    "    First time called function b =>  the function uses the global keyword to access the global variable \"a\". The function b calls function c , passing the current value of a , which is 0\n",
    "        At the start of first invocation -> a=0 \n",
    "        at the end of first invocation -> a=2\n",
    "        as we can see here, the function c is called after passing the present value of the variable \"a\"\n",
    "        The function c updates the value of this global variable by increasing it by 2\n",
    "    Second invocation of the function b=> now the global variable \"a\" has value 2.\n",
    "        At the start of second invocation -> a=2\n",
    "        at the end of second invocation -> a=4\n",
    "    Third time invocation of function b=>\n",
    "        at the start of the third invocation -> a=4\n",
    "        at the end of invocation -> a=6\n",
    "    "
   ]
  },
  {
   "cell_type": "code",
   "execution_count": 6,
   "id": "9e7fb93e",
   "metadata": {},
   "outputs": [
    {
     "data": {
      "text/plain": [
       "6"
      ]
     },
     "execution_count": 6,
     "metadata": {},
     "output_type": "execute_result"
    }
   ],
   "source": [
    "a = 0\n",
    "def b():\n",
    " global a\n",
    " a = c(a)\n",
    "def c(a):\n",
    " return a + 2\n",
    "b()\n",
    "b()\n",
    "b()\n",
    "a"
   ]
  },
  {
   "cell_type": "markdown",
   "id": "3c96d18f",
   "metadata": {},
   "source": [
    "### Question 2: \n",
    "#### Function fileLength(), given to you, takes the name of a file as input and returns\n",
    "#### the length of the file:\n",
    "    >>> fileLength('midterm.py')\n",
    "        284\n",
    "    >>> fileLength('idterm.py')\n",
    "    Traceback (most recent call last):\n",
    "    File \"<pyshell#34>\", line 1, in <module>\n",
    "     fileLength('idterm.py')\n",
    "    File \"/Users/me/midterm.py\", line 3, in fileLength\n",
    "     infile = open(filename)\n",
    "    FileNotFoundError: [Errno 2] No such file or directory:\n",
    "    'idterm.py'\n",
    "#### As shown above, if the file cannot be found by the interpreter or if it cannot be read as a text file, an exception will be raised. Modify function fileLength() so that a friendly message is printed instead:\n",
    "    >>> fileLength('midterm.py')\n",
    "    358\n",
    "    >>> fileLength('idterm.py')\n",
    "    File idterm.py not found.\n"
   ]
  },
  {
   "cell_type": "code",
   "execution_count": 9,
   "id": "763b4ad1",
   "metadata": {},
   "outputs": [
    {
     "name": "stdout",
     "output_type": "stream",
     "text": [
      "123\n",
      "File midterm.py not found\n"
     ]
    }
   ],
   "source": [
    "def fileLength(file_name):\n",
    "    try:\n",
    "        file = open(file_name)\n",
    "        contents = file.read()\n",
    "        file.close()\n",
    "        print(len(contents))\n",
    "    except FileNotFoundError:\n",
    "        print(f\"File {file_name} not found\")\n",
    "fileLength('Filelength.txt')\n",
    "fileLength('midterm.py')"
   ]
  },
  {
   "cell_type": "markdown",
   "id": "0ee6e62f",
   "metadata": {},
   "source": [
    "### Question 3\n",
    "#### Write a class named Marsupial that can be used as shown below:\n",
    "    >>> m = Marsupial()\n",
    "    >>> m.put_in_pouch('doll')\n",
    "    >>> m.put_in_pouch('firetruck')\n",
    "    >>> m.put_in_pouch('kitten')\n",
    "    >>> m.pouch_contents()\n",
    "    ['doll', 'firetruck', 'kitten']"
   ]
  },
  {
   "cell_type": "code",
   "execution_count": 44,
   "id": "948a5f65",
   "metadata": {},
   "outputs": [],
   "source": [
    "class Marsupial:\n",
    "    \n",
    "    def __init__(self):\n",
    "        self.contents=[]\n",
    "    def put_in_pouch(self,a):\n",
    "        self.contents.append(a)\n",
    "    def pouch_contents(self):\n",
    "        print(self.contents)\n",
    "        "
   ]
  },
  {
   "cell_type": "code",
   "execution_count": 45,
   "id": "f67f74f4",
   "metadata": {},
   "outputs": [
    {
     "name": "stdout",
     "output_type": "stream",
     "text": [
      "['doll', 'firetruck', 'kitten']\n"
     ]
    }
   ],
   "source": [
    "m = Marsupial()\n",
    "m.put_in_pouch('doll')\n",
    "m.put_in_pouch('firetruck')\n",
    "m.put_in_pouch('kitten')\n",
    "m.pouch_contents()"
   ]
  },
  {
   "cell_type": "code",
   "execution_count": 46,
   "id": "0fdf69c5",
   "metadata": {},
   "outputs": [],
   "source": [
    "class Kangaroo(Marsupial):\n",
    "    def __init__(self,x,y):\n",
    "        super().__init__()\n",
    "        self.xcord= x\n",
    "        self.ycord= y\n",
    "    def jump(self,dx,dy):\n",
    "        self.xcord+=dx\n",
    "        self.ycord+=dy\n",
    "    def __str__(self):\n",
    "        return \"I am a Kangaroo located at coordinates\" + \"(\"+str(self.xcord)+ \",\"+str(self.ycord) +\")\""
   ]
  },
  {
   "cell_type": "code",
   "execution_count": 47,
   "id": "ce666ab6",
   "metadata": {},
   "outputs": [
    {
     "name": "stdout",
     "output_type": "stream",
     "text": [
      "I am a Kangaroo located at coordinates(0,0)\n",
      "['doll', 'firetruck', 'kitten']\n",
      "I am a Kangaroo located at coordinates(3,0)\n"
     ]
    }
   ],
   "source": [
    "k = Kangaroo(0,0)\n",
    "print(k)\n",
    "k.put_in_pouch('doll')\n",
    "k.put_in_pouch('firetruck')\n",
    "k.put_in_pouch('kitten')\n",
    "k.pouch_contents()\n",
    "k.jump(1,0)\n",
    "k.jump(1,0)\n",
    "k.jump(1,0)\n",
    "print(k)"
   ]
  },
  {
   "cell_type": "markdown",
   "id": "567a606c",
   "metadata": {},
   "source": [
    "### Question 4\n",
    "#### Write function collatz() that takes a positive integer x as input and prints the Collatz sequence starting at x. A Collatz sequence is obtained by repeatedly applying this rule to the previous number x in the sequence:\n",
    "    x = {\n",
    "    𝑥/2 𝑖𝑓 𝑥 𝑖𝑠 𝑒𝑣𝑒𝑛\n",
    "    3𝑥 + 1 𝑖𝑓 𝑥 𝑖𝑠 𝑜𝑑𝑑\n",
    "#### Your function should stop when the sequence gets to number 1. Your implementation must be recursive, without any loops.\n",
    "    >>> collatz(1)\n",
    "    1\n",
    "    >>> collatz(10)\n",
    "    10\n",
    "    5\n",
    "    16\n",
    "    8\n",
    "    4\n",
    "    2\n",
    "    1\n"
   ]
  },
  {
   "cell_type": "code",
   "execution_count": 81,
   "id": "fe65a970",
   "metadata": {},
   "outputs": [],
   "source": [
    "def collatz(number):\n",
    "    print(number)\n",
    "    if number!=1:\n",
    "        if number%2==0:\n",
    "            number = number//2\n",
    "            number= int(number)\n",
    "            collatz(number)\n",
    "        else:\n",
    "            number= (3*number) +1\n",
    "            number= int(number)\n",
    "            collatz(number)\n",
    "    else:\n",
    "        return\n",
    "    \n",
    "        \n",
    "        \n",
    "            \n",
    "            "
   ]
  },
  {
   "cell_type": "code",
   "execution_count": 82,
   "id": "a3df08a2",
   "metadata": {},
   "outputs": [
    {
     "name": "stdout",
     "output_type": "stream",
     "text": [
      "1\n"
     ]
    }
   ],
   "source": [
    "collatz(1)"
   ]
  },
  {
   "cell_type": "code",
   "execution_count": 83,
   "id": "4eb2cdab",
   "metadata": {},
   "outputs": [
    {
     "name": "stdout",
     "output_type": "stream",
     "text": [
      "10\n",
      "5\n",
      "16\n",
      "8\n",
      "4\n",
      "2\n",
      "1\n"
     ]
    }
   ],
   "source": [
    "collatz(10)"
   ]
  },
  {
   "cell_type": "markdown",
   "id": "3123dfc8",
   "metadata": {},
   "source": [
    "### Question 5\n",
    "#### Write a recursive method binary() that takes a non-negative integer n and prints the binary representation of integer n.\n",
    "    >>> binary(0)\n",
    "    0\n",
    "    >>> binary(1)\n",
    "    1\n",
    "    >>> binary(3)\n",
    "    11\n",
    "    >>> binary(9)\n",
    "    1001"
   ]
  },
  {
   "cell_type": "code",
   "execution_count": 13,
   "id": "3ef6c29c",
   "metadata": {},
   "outputs": [
    {
     "name": "stdout",
     "output_type": "stream",
     "text": [
      "0\n"
     ]
    }
   ],
   "source": [
    "def binary(number):\n",
    "    if number==0:\n",
    "        print(\"0\")\n",
    "    elif number==1:\n",
    "        number = str(number)\n",
    "        print(number, end=\"\")\n",
    "    else:\n",
    "        rem= number%2\n",
    "        print(rem,end=\"\")\n",
    "        number= number//2\n",
    "        binary(number)\n",
    "binary(0)"
   ]
  },
  {
   "cell_type": "code",
   "execution_count": 15,
   "id": "89893fcb",
   "metadata": {},
   "outputs": [
    {
     "name": "stdout",
     "output_type": "stream",
     "text": [
      "1"
     ]
    }
   ],
   "source": [
    "binary(1)"
   ]
  },
  {
   "cell_type": "code",
   "execution_count": 16,
   "id": "f67676a3",
   "metadata": {},
   "outputs": [
    {
     "name": "stdout",
     "output_type": "stream",
     "text": [
      "11"
     ]
    }
   ],
   "source": [
    "binary(3)"
   ]
  },
  {
   "cell_type": "code",
   "execution_count": 17,
   "id": "249136ad",
   "metadata": {},
   "outputs": [
    {
     "name": "stdout",
     "output_type": "stream",
     "text": [
      "1001"
     ]
    }
   ],
   "source": [
    "binary(9)"
   ]
  },
  {
   "cell_type": "markdown",
   "id": "509861c3",
   "metadata": {},
   "source": [
    "### Question 6\n",
    "#### Implement a class named HeadingParser that can be used to parse an HTML document, and retrieve and print all the headings in the document. You should implement your class as a subclass of HTMLParser, defined in Standard Library module html.parser. When fed a string containing HTML code, your class should print the headings, one per line and in the order in which they appear in the document. Each heading should be indented as follows: an h1 heading should have indentation 0, and h2 heading should have indentation 1, etc. Test your implementation using w3c.html.\n",
    "    >>> infile = open('w3c.html')\n",
    "    >>> content = infile.read()\n",
    "    >>> infile.close()\n",
    "    >>> hp = HeadingParser()\n",
    "    >>> hp.feed(content)\n",
    "    W3C Mission\n",
    "    Principles"
   ]
  },
  {
   "cell_type": "code",
   "execution_count": 7,
   "id": "d07734bc",
   "metadata": {},
   "outputs": [
    {
     "name": "stdout",
     "output_type": "stream",
     "text": [
      "W3C Mission\n",
      "\t\n",
      " Principles\n",
      "  \n",
      " \n"
     ]
    }
   ],
   "source": [
    "from html.parser import HTMLParser\n",
    "class HeadingParser(HTMLParser):\n",
    "    def __init__(self):\n",
    "        HTMLParser.__init__(self)\n",
    "        self.value=False\n",
    "        self.space= False\n",
    "        \n",
    "        \n",
    "    def handle_starttag(self, tag, attrs):\n",
    "        if tag == \"h1\":\n",
    "            self.value=True\n",
    "        elif tag==\"h2\":\n",
    "            self.value=True\n",
    "            self.space=True\n",
    "    def handle_data(self, data):\n",
    "        if self.value== True:\n",
    "            if self.space==True:\n",
    "                print(\" \"+data.strip(\"\\n\"))\n",
    "            else:\n",
    "                print(data.strip(\"\\n\"))\n",
    "        \n",
    "            \n",
    "infile = open(r\"w3c.html\")\n",
    "content = infile.read()\n",
    "infile.close()\n",
    "hp = HeadingParser()\n",
    "hp.feed(content)\n",
    "#Reference : https://docs.python.org/3/library/html.parser.html#example-html-parser-application"
   ]
  },
  {
   "cell_type": "markdown",
   "id": "65b9775e",
   "metadata": {},
   "source": [
    "### Question 7\n",
    "#### Implement recursive function webdir() that takes as input: a URL (as a string) and non-negative integers depth and indent. Your function should visit every web page reachable from the starting URL web page in depth clicks or less, and print each web page's URL. As shown below, indentation, specified by indent, should be used to indicate the depth of a URL.\n",
    "    >>>\n",
    "    webdir('http://reed.cs.depaul.edu/lperkovic/test1.html'\n",
    "    , 2, 0)\n",
    "    http://reed.cs.depaul.edu/lperkovic/test1.html\n",
    "     http://reed.cs.depaul.edu/lperkovic/test2.html\n",
    "     http://reed.cs.depaul.edu/lperkovic/test4.html\n",
    "     http://reed.cs.depaul.edu/lperkovic/test3.html\n",
    "     http://reed.cs.depaul.edu/lperkovic/test4.html\n"
   ]
  },
  {
   "cell_type": "code",
   "execution_count": 1,
   "id": "3f869507",
   "metadata": {},
   "outputs": [],
   "source": [
    "from urllib.request import urlopen\n",
    "from urllib.parse import urljoin\n",
    "\n",
    "from html.parser import HTMLParser\n",
    "class Collector(HTMLParser):\n",
    "    'collects hyperlink URLs into a list'\n",
    "\n",
    "    def __init__(self, url):\n",
    "        'initializes parser, the url, and a list'\n",
    "        HTMLParser.__init__(self)\n",
    "        self.url = url\n",
    "        self.links = []\n",
    "\n",
    "    \n",
    "    def handle_starttag(self, tag, attrs):\n",
    "        'collects hyperlink URLs in their absolute format'\n",
    "        if tag == 'a':\n",
    "            for attr in attrs:\n",
    "                if attr[0] == 'href':\n",
    "                    # construct absolute URL\n",
    "                    absolute = urljoin(self.url, attr[1])\n",
    "                    if absolute[:4] == 'http': # collect HTTP URLs\n",
    "                        self.links.append(absolute)\n",
    "                        \n",
    "    def getLinks(self):\n",
    "        'returns hyperlinks URLs in their absolute format'\n",
    "        return self.links\n",
    "#Reference: Class notes"
   ]
  },
  {
   "cell_type": "code",
   "execution_count": 3,
   "id": "00c45f2b",
   "metadata": {},
   "outputs": [],
   "source": [
    "visited = set() # initialize visited to an empty set\n",
    "\n",
    "def Webdir(url,depth,indent):\n",
    "    '''a recursive web crawler that calls analyze()\n",
    "       on every visited web page'''\n",
    "    content = urlopen(url).read().decode()\n",
    "    collector = Collector(url)\n",
    "    collector.feed(content)\n",
    "    urls = collector.getLinks()\n",
    "    print('{:45}'.format(url))\n",
    "    \n",
    "    \n",
    "    # add url to set of visited pages \n",
    "    global visited     # warns the programmer \n",
    "    visited.add(url)\n",
    "    \n",
    "    # recursively continue crawl from every link in links\n",
    "    for link in urls:\n",
    "        \n",
    "        # follow link only if not visited\n",
    "        if link not in visited:\n",
    "            try:\n",
    "                webdir(url,depth,indent)\n",
    "            except:\n",
    "                pass\n",
    "       \n",
    "#Reference: Class notes"
   ]
  },
  {
   "cell_type": "code",
   "execution_count": 5,
   "id": "04d4ee0c",
   "metadata": {},
   "outputs": [
    {
     "name": "stdout",
     "output_type": "stream",
     "text": [
      "http://reed.cs.depaul.edu/lperkovic/test1.html\n"
     ]
    }
   ],
   "source": [
    "Webdir('http://reed.cs.depaul.edu/lperkovic/test1.html',2,0)"
   ]
  },
  {
   "cell_type": "markdown",
   "id": "17a9c363",
   "metadata": {},
   "source": [
    "### Question 8\n",
    "#### Write SQL queries on the below database table that return:\n",
    "#### a) All the temperature data.\n",
    "#### b) All the cities, but without repetition.\n",
    "#### c) All the records for India.\n",
    "#### d) All the Fall records.\n",
    "#### e) The city, country, and season for which the average rainfall is between 200 and 400 millimeters.\n",
    "#### f) The city and country for which the average Fall temperature is above 20 degrees, in increasing temperature order.\n",
    "#### g) The total annual rainfall for Cairo.\n",
    "#### h) The total rainfall for each season.\n"
   ]
  },
  {
   "cell_type": "code",
   "execution_count": 2,
   "id": "5c66efd6",
   "metadata": {},
   "outputs": [
    {
     "data": {
      "text/plain": [
       "<sqlite3.Cursor at 0x1cc2a2e0650>"
      ]
     },
     "execution_count": 2,
     "metadata": {},
     "output_type": "execute_result"
    }
   ],
   "source": [
    "import sqlite3\n",
    "con = sqlite3.connect('web.db')\n",
    "cur = con.cursor()\n",
    "cur.execute(\"CREATE TABLE Data(City text,Country text,Season text,Temperature  float ,Rainfall float)\")\n",
    "\n"
   ]
  },
  {
   "cell_type": "code",
   "execution_count": 3,
   "id": "58561f16",
   "metadata": {},
   "outputs": [
    {
     "data": {
      "text/plain": [
       "<sqlite3.Cursor at 0x1cc2a2e0650>"
      ]
     },
     "execution_count": 3,
     "metadata": {},
     "output_type": "execute_result"
    }
   ],
   "source": [
    "cur.execute(\"INSERT INTO Data VALUES ('Mumbai', 'India', 'Winter',24.8,5.9)\")\n",
    "cur.execute(\"INSERT INTO Data VALUES ('Mumbai', 'India', 'Spring',28.4,16.2)\")\n",
    "cur.execute(\"INSERT INTO Data VALUES ('Mumbai', 'India', 'Summer',27.9,1549.4)\")\n",
    "cur.execute(\"INSERT INTO Data VALUES ('Mumbai', 'India', 'Fall',27.6,346.0)\")\n",
    "cur.execute(\"INSERT INTO Data VALUES ('London', 'United Kingdom', 'Winter',4.2,207.7)\")\n",
    "cur.execute(\"INSERT INTO Data VALUES ('London', 'United Kingdom', 'Spring',8.3,169.6)\")\n",
    "cur.execute(\"INSERT INTO Data VALUES ('London', 'United Kingdom', 'Summer',15.7,157.0)\")\n",
    "cur.execute(\"INSERT INTO Data VALUES ('London', 'United Kingdom', 'Fall',10.4,218.5)\")\n",
    "cur.execute(\"INSERT INTO Data VALUES ('Cairo', 'Egypt', 'Winter',13.6,16.5)\")\n",
    "cur.execute(\"INSERT INTO Data VALUES ('Cairo', 'Egypt', 'Spring',20.7,6.5)\")\n",
    "cur.execute(\"INSERT INTO Data VALUES ('Cairo', 'Egypt', 'Summer',27.7,0.1)\")\n",
    "cur.execute(\"INSERT INTO Data VALUES ('Cairo', 'Egypt', 'Fall',22.2,4.5)\")\n",
    "\n"
   ]
  },
  {
   "cell_type": "code",
   "execution_count": 6,
   "id": "1c7058b1",
   "metadata": {},
   "outputs": [
    {
     "data": {
      "text/plain": [
       "[('Mumbai', 'India', 'Winter', 24.8, 5.9),\n",
       " ('Mumbai', 'India', 'Spring', 28.4, 16.2),\n",
       " ('Mumbai', 'India', 'Summer', 27.9, 1549.4),\n",
       " ('Mumbai', 'India', 'Fall', 27.6, 346.0),\n",
       " ('London', 'United Kingdom', 'Winter', 4.2, 207.7),\n",
       " ('London', 'United Kingdom', 'Spring', 8.3, 169.6),\n",
       " ('London', 'United Kingdom', 'Summer', 15.7, 157.0),\n",
       " ('London', 'United Kingdom', 'Fall', 10.4, 218.5),\n",
       " ('Cairo', 'Egypt', 'Winter', 13.6, 16.5),\n",
       " ('Cairo', 'Egypt', 'Spring', 20.7, 6.5),\n",
       " ('Cairo', 'Egypt', 'Summer', 27.7, 0.1),\n",
       " ('Cairo', 'Egypt', 'Fall', 22.2, 4.5)]"
      ]
     },
     "execution_count": 6,
     "metadata": {},
     "output_type": "execute_result"
    }
   ],
   "source": [
    "cur.execute(\"Select * from Data\")\n",
    "cur.fetchall()"
   ]
  },
  {
   "cell_type": "code",
   "execution_count": 7,
   "id": "650a1a0b",
   "metadata": {},
   "outputs": [
    {
     "name": "stdout",
     "output_type": "stream",
     "text": [
      "Answer 8 (a) \n",
      "The Temperature data is :\n"
     ]
    },
    {
     "data": {
      "text/plain": [
       "[(24.8,),\n",
       " (28.4,),\n",
       " (27.9,),\n",
       " (27.6,),\n",
       " (4.2,),\n",
       " (8.3,),\n",
       " (15.7,),\n",
       " (10.4,),\n",
       " (13.6,),\n",
       " (20.7,),\n",
       " (27.7,),\n",
       " (22.2,)]"
      ]
     },
     "execution_count": 7,
     "metadata": {},
     "output_type": "execute_result"
    }
   ],
   "source": [
    "print(\"Answer 8 (a) \\nThe Temperature data is :\")\n",
    "cur.execute(\"Select Temperature from Data \")\n",
    "cur.fetchall()"
   ]
  },
  {
   "cell_type": "code",
   "execution_count": 8,
   "id": "568570bf",
   "metadata": {},
   "outputs": [
    {
     "name": "stdout",
     "output_type": "stream",
     "text": [
      "Answer 8 (b) \n",
      "All the cities without repetition:\n"
     ]
    },
    {
     "data": {
      "text/plain": [
       "[('Mumbai',), ('London',), ('Cairo',)]"
      ]
     },
     "execution_count": 8,
     "metadata": {},
     "output_type": "execute_result"
    }
   ],
   "source": [
    "print(\"Answer 8 (b) \\nAll the cities without repetition:\")\n",
    "cur.execute(\"Select Distinct City from Data \")\n",
    "cur.fetchall()"
   ]
  },
  {
   "cell_type": "code",
   "execution_count": 9,
   "id": "47d87e6f",
   "metadata": {},
   "outputs": [
    {
     "name": "stdout",
     "output_type": "stream",
     "text": [
      "Answer 8 (c) \n",
      "All the records for India:\n"
     ]
    },
    {
     "data": {
      "text/plain": [
       "[('Mumbai', 'India', 'Winter', 24.8, 5.9),\n",
       " ('Mumbai', 'India', 'Spring', 28.4, 16.2),\n",
       " ('Mumbai', 'India', 'Summer', 27.9, 1549.4),\n",
       " ('Mumbai', 'India', 'Fall', 27.6, 346.0)]"
      ]
     },
     "execution_count": 9,
     "metadata": {},
     "output_type": "execute_result"
    }
   ],
   "source": [
    "print(\"Answer 8 (c) \\nAll the records for India:\")\n",
    "cur.execute(\"Select * from Data where Country= 'India' \")\n",
    "cur.fetchall()"
   ]
  },
  {
   "cell_type": "code",
   "execution_count": 10,
   "id": "9ea20691",
   "metadata": {},
   "outputs": [
    {
     "name": "stdout",
     "output_type": "stream",
     "text": [
      "Answer 8 (d) \n",
      "All the fall records:\n"
     ]
    },
    {
     "data": {
      "text/plain": [
       "[('Mumbai', 'India', 'Fall', 27.6, 346.0),\n",
       " ('London', 'United Kingdom', 'Fall', 10.4, 218.5),\n",
       " ('Cairo', 'Egypt', 'Fall', 22.2, 4.5)]"
      ]
     },
     "execution_count": 10,
     "metadata": {},
     "output_type": "execute_result"
    }
   ],
   "source": [
    "print(\"Answer 8 (d) \\nAll the fall records:\")\n",
    "cur.execute(\"Select * from Data where Season= 'Fall' \")\n",
    "cur.fetchall()"
   ]
  },
  {
   "cell_type": "code",
   "execution_count": 11,
   "id": "6f6f4739",
   "metadata": {},
   "outputs": [
    {
     "name": "stdout",
     "output_type": "stream",
     "text": [
      "Answer 8 (e) \n",
      "The city, country, and season for which the average rainfall is between 200 and 400 millimeters:\n"
     ]
    },
    {
     "data": {
      "text/plain": [
       "[('Mumbai', 'India', 'Fall'),\n",
       " ('London', 'United Kingdom', 'Winter'),\n",
       " ('London', 'United Kingdom', 'Fall')]"
      ]
     },
     "execution_count": 11,
     "metadata": {},
     "output_type": "execute_result"
    }
   ],
   "source": [
    "print(\"Answer 8 (e) \\nThe city, country, and season for which the average rainfall is between 200 and 400 millimeters:\")\n",
    "cur.execute(\"Select City,Country,Season from Data where Rainfall between 200 and 400 \")\n",
    "cur.fetchall()"
   ]
  },
  {
   "cell_type": "code",
   "execution_count": 12,
   "id": "79ffaad6",
   "metadata": {},
   "outputs": [
    {
     "name": "stdout",
     "output_type": "stream",
     "text": [
      "Answer 8 (f) \n",
      "The city and country for which the average Fall temperature is above 20 degrees, in increasing temperature order.\n"
     ]
    },
    {
     "data": {
      "text/plain": [
       "[('Cairo', 'Egypt'), ('Mumbai', 'India')]"
      ]
     },
     "execution_count": 12,
     "metadata": {},
     "output_type": "execute_result"
    }
   ],
   "source": [
    "print(\"Answer 8 (f) \\nThe city and country for which the average Fall temperature is above 20 degrees, in increasing temperature order.\")\n",
    "cur.execute(\"Select City,Country from Data where Temperature >20 and Season= 'Fall' order By Temperature  \")\n",
    "cur.fetchall()"
   ]
  },
  {
   "cell_type": "code",
   "execution_count": 13,
   "id": "c523559d",
   "metadata": {},
   "outputs": [
    {
     "name": "stdout",
     "output_type": "stream",
     "text": [
      "Answer 8 (g) \n",
      "The total annual rainfall for Cairo is\n"
     ]
    },
    {
     "data": {
      "text/plain": [
       "[(27.6,)]"
      ]
     },
     "execution_count": 13,
     "metadata": {},
     "output_type": "execute_result"
    }
   ],
   "source": [
    "print(\"Answer 8 (g) \\nThe total annual rainfall for Cairo is\")\n",
    "cur.execute(\"Select SUM(Rainfall) from Data where City = 'Cairo'  \")\n",
    "cur.fetchall()"
   ]
  },
  {
   "cell_type": "code",
   "execution_count": 14,
   "id": "399d362c",
   "metadata": {},
   "outputs": [
    {
     "name": "stdout",
     "output_type": "stream",
     "text": [
      "Answer 8 (h) \n",
      "The total rainfall for each season.\n"
     ]
    },
    {
     "data": {
      "text/plain": [
       "[('Fall', 569.0),\n",
       " ('Spring', 192.29999999999998),\n",
       " ('Summer', 1706.5),\n",
       " ('Winter', 230.1)]"
      ]
     },
     "execution_count": 14,
     "metadata": {},
     "output_type": "execute_result"
    }
   ],
   "source": [
    "print(\"Answer 8 (h) \\nThe total rainfall for each season.\")\n",
    "cur.execute(\"Select Season,Sum(Rainfall) from Data group by Season \")\n",
    "cur.fetchall()"
   ]
  },
  {
   "cell_type": "markdown",
   "id": "706a570f",
   "metadata": {},
   "source": [
    "### Question 9\n",
    "#### Suppose list words is defined as follows:\n",
    "    >>> words = ['The', 'quick', 'brown', 'fox', 'jumps', 'over',\n",
    "    'the', 'lazy', 'dog']\n",
    "#### Write list comprehension expressions that use list words and generate the following lists:\n",
    "    a) ['THE', 'QUICK', 'BROWN', 'FOX', 'JUMPS', 'OVER', 'THE',\n",
    "    'LAZY', 'DOG']\n",
    "    b) ['the', 'quick', 'brown', 'fox', 'jumps', 'over', 'the',\n",
    "    'lazy', 'dog']\n",
    "    c) [3, 5, 5, 3, 5, 4, 3, 4, 3] (the list of lengths of words in list\n",
    "    words).\n",
    "    d) [['THE', 'the', 3], ['QUICK', 'quick', 5], ['BROWN',\n",
    "    'brown', 5], ['FOX', 'fox', 3], ['JUMPS', 'jumps', 5],\n",
    "    ['OVER', 'over', 4], ['THE', 'the', 3], ['LAZY', 'lazy',\n",
    "    4], ['DOG', 'dog', 3]] (the list containing a list for every word of list\n",
    "    words, where each list contains the word in uppercase and lowercase and the\n",
    "    length of the word.)\n",
    "    e) ['The', 'quick', 'brown', 'fox', 'jumps', 'over', 'the',\n",
    "    'lazy', 'dog'] (the list of words in list words containing 4 or more\n",
    "    characters.)"
   ]
  },
  {
   "cell_type": "code",
   "execution_count": 59,
   "id": "e6c4e15f",
   "metadata": {},
   "outputs": [
    {
     "name": "stdout",
     "output_type": "stream",
     "text": [
      "Answer: a)\n",
      "['THE', 'QUICK', 'BROWN', 'FOX', 'JUMPS', 'OVER', 'THE', 'LAZY', 'DOG']\n",
      "\n",
      "\n",
      "Answer: b)\n",
      "['the', 'quick', 'brown', 'fox', 'jumps', 'over', 'the', 'lazy', 'dog']\n",
      "\n",
      "\n",
      "Answer: c)\n",
      "[3, 5, 5, 3, 5, 4, 3, 4, 3]\n",
      "\n",
      "\n",
      "Answer: d)\n",
      "[['THE', 'the', 3], ['QUICK', 'quick', 5], ['BROWN', 'brown', 5], ['FOX', 'fox', 3], ['JUMPS', 'jumps', 5], ['OVER', 'over', 4], ['THE', 'the', 3], ['LAZY', 'lazy', 4], ['DOG', 'dog', 3]]\n",
      "\n",
      "\n",
      "Answer: e)\n",
      "['quick', 'brown', 'jumps', 'over', 'lazy']\n"
     ]
    }
   ],
   "source": [
    "print(\"Answer: a)\")\n",
    "\n",
    "words= ['The', 'quick', 'brown', 'fox', 'jumps', 'over','the', 'lazy', 'dog']\n",
    "upper_list= [item.upper() for item in words]\n",
    "print(upper_list)\n",
    "print(\"\\n\")\n",
    "print(\"Answer: b)\")\n",
    "lower_list= [item.lower() for item in words]\n",
    "print(lower_list)\n",
    "print(\"\\n\")\n",
    "print(\"Answer: c)\")\n",
    "len_list= [len(item) for item in words]\n",
    "print(len_list)\n",
    "print(\"\\n\")\n",
    "print(\"Answer: d)\")\n",
    "list_of_list= [[item.upper(), item.lower(), len(item)] for item in words]\n",
    "print(list_of_list)\n",
    "print(\"\\n\")\n",
    "print(\"Answer: e)\")\n",
    "four_up_list= [item for item in words if len(item)>3]\n",
    "print(four_up_list)\n"
   ]
  },
  {
   "cell_type": "code",
   "execution_count": null,
   "id": "8b368738",
   "metadata": {},
   "outputs": [],
   "source": []
  }
 ],
 "metadata": {
  "kernelspec": {
   "display_name": "Python 3 (ipykernel)",
   "language": "python",
   "name": "python3"
  },
  "language_info": {
   "codemirror_mode": {
    "name": "ipython",
    "version": 3
   },
   "file_extension": ".py",
   "mimetype": "text/x-python",
   "name": "python",
   "nbconvert_exporter": "python",
   "pygments_lexer": "ipython3",
   "version": "3.9.12"
  }
 },
 "nbformat": 4,
 "nbformat_minor": 5
}
